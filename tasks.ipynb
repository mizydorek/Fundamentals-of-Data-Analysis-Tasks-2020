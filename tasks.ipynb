{
 "metadata": {
  "language_info": {
   "codemirror_mode": {
    "name": "ipython",
    "version": 3
   },
   "file_extension": ".py",
   "mimetype": "text/x-python",
   "name": "python",
   "nbconvert_exporter": "python",
   "pygments_lexer": "ipython3",
   "version": "3.9.0-final"
  },
  "orig_nbformat": 2,
  "kernelspec": {
   "name": "Python 3.9.0 64-bit ('venv')",
   "display_name": "Python 3.9.0 64-bit ('venv')",
   "metadata": {
    "interpreter": {
     "hash": "c4bf02fa0d2d8d79f40f4e9377b744e8be0d12e17a9fb69fc695f26879842d79"
    }
   }
  }
 },
 "nbformat": 4,
 "nbformat_minor": 2,
 "cells": [
  {
   "source": [
    "# Fundamentals of Data Analysis\n",
    "Tasks notebook for Fundamentals of Data Analysis @ GMIT - 2020\n",
    "\n",
    "Author: Maciej Izydorek (G00387873@gmit.ie) Github: mizydorek\n",
    "\n",
    "***"
   ],
   "cell_type": "markdown",
   "metadata": {}
  },
  {
   "source": [
    "Task 1 \n",
    "\n",
    "*Write a Python function called counts that takes a list as\n",
    "input and returns a dictionary of unique items in the list as keys and the number of times each item appears as values.*"
   ],
   "cell_type": "markdown",
   "metadata": {}
  },
  {
   "cell_type": "code",
   "execution_count": 1,
   "metadata": {},
   "outputs": [
    {
     "output_type": "stream",
     "name": "stdout",
     "text": [
      "{'A': 3, 'B': 1, 'C': 1}\n"
     ]
    }
   ],
   "source": [
    "# Version 1.0 \n",
    "# Really simple approach to solve the Task 1 \n",
    "# It takes a list, iterate through it and counts items in a list and returns as a dictionary\n",
    "def counts():\n",
    "    # Initial values \n",
    "    d = {}\n",
    "    l = []\n",
    "    '''\n",
    "    item = input('Add element to list: ')\n",
    "    while item != '':\n",
    "        list.append(item)\n",
    "        item = input('Add another element to list or hit enter: ')\n",
    "    '''\n",
    "    l = ['A', 'A', 'B', 'C', 'A']\n",
    "    \n",
    "    # iterate through list\n",
    "    for item in l:\n",
    "        # check if item is on the list\n",
    "        if item not in d:\n",
    "            d[item] = 1\n",
    "        else:\n",
    "            d[item] += 1\n",
    "    print(d)\n",
    "\n",
    "if __name__ == '__main__':\n",
    "    counts()"
   ]
  },
  {
   "cell_type": "code",
   "execution_count": 2,
   "metadata": {},
   "outputs": [
    {
     "output_type": "execute_result",
     "data": {
      "text/plain": [
       "{'A': 4, 'B': 4}"
      ]
     },
     "metadata": {},
     "execution_count": 2
    }
   ],
   "source": [
    "# Version 1.1\n",
    "# More complex approach to solve the task 1 with nested lists\n",
    "l = ['A', ['A', 'A', 'B'], 'A', 'B', ['B', 'B']]\n",
    "\n",
    "# function that counts elements of list and returns as a dictionary \n",
    "def counts(l):\n",
    "    d = {}\n",
    "    for i in l:\n",
    "        if i not in d:\n",
    "            d[i] = 1\n",
    "        else:\n",
    "            d[i] += 1\n",
    "    return d\n",
    "\n",
    "# Main function that checks if there is a nested list, append all elements to temporary list and applies counts function to it\n",
    "def reduceall(f, l):\n",
    "    # temporary list \n",
    "    ans = []\n",
    "    for el in l:\n",
    "        # checks if element is a list\n",
    "        if isinstance(el, list):\n",
    "            # loop through it and append to list\n",
    "            for subel in el:\n",
    "                ans.append(subel)\n",
    "        # if element is not a list, just rewrite to list\n",
    "        else:\n",
    "            ans.append(el)\n",
    "    # applies counts function to list\n",
    "    ans = f(ans)\n",
    "    return ans\n",
    "\n",
    "reduceall(counts, l)"
   ]
  }
 ]
}