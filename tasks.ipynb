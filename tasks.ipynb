{
 "metadata": {
  "language_info": {
   "codemirror_mode": {
    "name": "ipython",
    "version": 3
   },
   "file_extension": ".py",
   "mimetype": "text/x-python",
   "name": "python",
   "nbconvert_exporter": "python",
   "pygments_lexer": "ipython3",
   "version": "3.8.2-final"
  },
  "orig_nbformat": 2,
  "kernelspec": {
   "name": "Python 3.8.2 64-bit",
   "display_name": "Python 3.8.2 64-bit",
   "metadata": {
    "interpreter": {
     "hash": "31f2aee4e71d21fbe5cf8b01ff0e069b9275f58929596ceb00d14d90e3e16cd6"
    }
   }
  }
 },
 "nbformat": 4,
 "nbformat_minor": 2,
 "cells": [
  {
   "source": [
    "# Fundamentals of Data Analysis\n",
    "Tasks notebook for Fundamentals of Data Analysis @ GMIT - 2020\n",
    "\n",
    "Author: Maciej Izydorek (G00387873@gmit.ie) Github: mizydorek\n",
    "\n",
    "***"
   ],
   "cell_type": "markdown",
   "metadata": {}
  },
  {
   "source": [
    "Task 1 \n",
    "\n",
    "*Write a Python function called counts that takes a list as\n",
    "input and returns a dictionary of unique items in the list as keys and the number of times each item appears as values.*"
   ],
   "cell_type": "markdown",
   "metadata": {}
  },
  {
   "cell_type": "code",
   "execution_count": 1,
   "metadata": {},
   "outputs": [
    {
     "output_type": "stream",
     "name": "stdout",
     "text": [
      "{'A': 3, 'B': 1, 'C': 1}\n"
     ]
    }
   ],
   "source": [
    "# Version 1.0 \n",
    "# Really simple approach to solve the Task 1 \n",
    "# It takes a list, iterate through it and count items in a list and return as a dictionary\n",
    "def counts():\n",
    "    # Initial values \n",
    "    d = {}\n",
    "    l = []\n",
    "    \n",
    "    l = ['A', 'A', 'B', 'C', 'A']\n",
    "    \n",
    "    # iterate through list\n",
    "    for item in l:\n",
    "        # check if item is on the list\n",
    "        if item not in d:\n",
    "            d[item] = 1\n",
    "        else:\n",
    "            d[item] += 1\n",
    "    print(d)\n",
    "\n",
    "counts()"
   ]
  },
  {
   "cell_type": "code",
   "execution_count": 2,
   "metadata": {},
   "outputs": [
    {
     "output_type": "execute_result",
     "data": {
      "text/plain": [
       "{'A': 4, 'B': 4}"
      ]
     },
     "metadata": {},
     "execution_count": 2
    }
   ],
   "source": [
    "# Version 1.1\n",
    "# More complex approach to solve the task 1 with nested lists\n",
    "l = ['A', ['A', 'A', 'B'], 'A', 'B', ['B', 'B']]\n",
    "\n",
    "# function that counts elements of list and returns as a dictionary \n",
    "def counts(l):\n",
    "    d = {}\n",
    "    for i in l:\n",
    "        if i not in d:\n",
    "            d[i] = 1\n",
    "        else:\n",
    "            d[i] += 1\n",
    "    return d\n",
    "\n",
    "# Main function that checks if there is a nested list, append all elements to temporary list and applies counts function to it\n",
    "def reduceall(f, l):\n",
    "    # temporary list \n",
    "    ans = []\n",
    "    for el in l:\n",
    "        # checks if element is a list\n",
    "        if isinstance(el, list):\n",
    "            # loop through it and append to list\n",
    "            for subel in el:\n",
    "                ans.append(subel)\n",
    "        # if element is not a list, just rewrite to list\n",
    "        else:\n",
    "            ans.append(el)\n",
    "    # applies counts function to list\n",
    "    ans = f(ans)\n",
    "    return ans\n",
    "\n",
    "reduceall(counts, l)"
   ]
  },
  {
   "source": [
    "Task 2\n",
    "\n",
    "*Write a Python function called dicerolls that simulates\n",
    "rolling dice. Your function should take two parameters: the number of dice k and\n",
    "the number of times to roll the dice n. The function should simulate randomly\n",
    "rolling k dice n times, keeping track of each total face value. It should then return\n",
    "a dictionary with the number of times each possible total face value occurred.*"
   ],
   "cell_type": "markdown",
   "metadata": {}
  },
  {
   "cell_type": "code",
   "execution_count": 3,
   "metadata": {},
   "outputs": [
    {
     "output_type": "execute_result",
     "data": {
      "text/plain": [
       "{2: 20,\n",
       " 3: 60,\n",
       " 4: 84,\n",
       " 5: 97,\n",
       " 6: 153,\n",
       " 7: 159,\n",
       " 8: 144,\n",
       " 9: 103,\n",
       " 10: 92,\n",
       " 11: 51,\n",
       " 12: 37}"
      ]
     },
     "metadata": {},
     "execution_count": 3
    }
   ],
   "source": [
    "# Version 1.0 \n",
    "# import random library to generate random numbers\n",
    "# https://docs.python.org/3/library/random.html\n",
    "import random \n",
    "\n",
    "# main function to simulate randomly rolling k dice n times and return a sorted dictionary with the number of times each possible total face value occurred\n",
    "\n",
    "def diceroll(k, n):\n",
    "\n",
    "    d = {}\n",
    "    l = []\n",
    "\n",
    "    # iterate n number of times \n",
    "    for i in range(n):\n",
    "        # temp variable \n",
    "        num = 0\n",
    "        # iterate k number of dice\n",
    "        for j in range(k):\n",
    "            # generate random number between 1 and 6\n",
    "            p = random.randint(1,6)\n",
    "            # sum up result \n",
    "            num += p\n",
    "            \n",
    "        # append to list \n",
    "        l.append(num)\n",
    "    \n",
    "    # iterate through a list\n",
    "    for item in l:\n",
    "            # check if item is on the list and add one\n",
    "            if item not in d:\n",
    "                d[item] = 1\n",
    "            # if on the list increment by one \n",
    "            else:\n",
    "                d[item] += 1\n",
    "\n",
    "    # finding on how to sort the dictionaries in python\n",
    "    # https://stackoverflow.com/questions/9001509/how-can-i-sort-a-dictionary-by-key\n",
    "    # return sorted dictionary by items\n",
    "    return dict(sorted(d.items()))\n",
    "\n",
    "diceroll(2,1000)\n"
   ]
  },
  {
   "cell_type": "code",
   "execution_count": null,
   "metadata": {},
   "outputs": [],
   "source": []
  }
 ]
}