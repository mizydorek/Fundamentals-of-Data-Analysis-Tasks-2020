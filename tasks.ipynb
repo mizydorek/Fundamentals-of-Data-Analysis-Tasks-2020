{
 "metadata": {
  "language_info": {
   "codemirror_mode": {
    "name": "ipython",
    "version": 3
   },
   "file_extension": ".py",
   "mimetype": "text/x-python",
   "name": "python",
   "nbconvert_exporter": "python",
   "pygments_lexer": "ipython3",
   "version": "3.8.3-final"
  },
  "orig_nbformat": 2,
  "kernelspec": {
   "name": "Python 3.8.3 32-bit",
   "display_name": "Python 3.8.3 32-bit",
   "metadata": {
    "interpreter": {
     "hash": "d53ec9bb4167b68395b9e8bf6ef6048dff0ad5d7af4830b0ad7d9b1d9bd67a44"
    }
   }
  }
 },
 "nbformat": 4,
 "nbformat_minor": 2,
 "cells": [
  {
   "source": [
    "# Fundamentals of Data Analysis\n",
    "Tasks notebook for Fundamentals of Data Analysis @ GMIT - 2020\n",
    "\n",
    "Author: Maciej Izydorek (G00387873@gmit.ie) Github: mizydorek\n",
    "\n",
    "***"
   ],
   "cell_type": "markdown",
   "metadata": {}
  },
  {
   "source": [
    "Task 1 \n",
    "\n",
    "*Write a Python function called counts that takes a list as\n",
    "input and returns a dictionary of unique items in the list as keys and the number of times each item appears as values.*"
   ],
   "cell_type": "markdown",
   "metadata": {}
  },
  {
   "cell_type": "code",
   "execution_count": 23,
   "metadata": {},
   "outputs": [
    {
     "output_type": "stream",
     "name": "stdout",
     "text": [
      "{'a': 3, 'b': 2, 'c': 2, 'd': 1}\n"
     ]
    }
   ],
   "source": [
    "def counts():\n",
    "    # Initial values \n",
    "    dict = {}\n",
    "    list = []\n",
    "    item = input('Add element to list: ')\n",
    "    while item != 'q':\n",
    "        list.append(item)\n",
    "        item = input('Add another element to list or hit q: ')\n",
    "    #list = ['A', 'A', 'B', 'C', 'A']\n",
    "    \n",
    "    # iterate through list\n",
    "    for item in list:\n",
    "        # check if item is on the list\n",
    "        if item not in dict:\n",
    "            dict[item] = 1\n",
    "        else:\n",
    "            dict[item] += 1\n",
    "    print(dict)\n",
    "\n",
    "if __name__ == '__main__':\n",
    "    counts()"
   ]
  }
 ]
}